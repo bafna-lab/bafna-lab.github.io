{
 "cells": [
  {
   "cell_type": "markdown",
   "id": "a0000000",
   "metadata": {},
   "source": [
    "# Scrape Vb Google Scholar"
   ]
  },
  {
   "cell_type": "code",
   "execution_count": 11,
   "id": "885d8083",
   "metadata": {},
   "outputs": [
    {
     "name": "stderr",
     "output_type": "stream",
     "text": [
      "[NbConvertApp] WARNING | Config option `extra_template_paths` not recognized by `ScriptExporter`.  Did you mean `template_path`?\n",
      "[NbConvertApp] Converting notebook scrape_vb_google_scholar.ipynb to script\n",
      "[NbConvertApp] WARNING | Config option `extra_template_paths` not recognized by `PythonExporter`.  Did you mean `template_path`?\n",
      "[NbConvertApp] Writing 2911 bytes to scrape_vb_google_scholar.py\n"
     ]
    }
   ],
   "source": [
    "import __main__ as main\n",
    "import subprocess as sp\n",
    "import time\n",
    "from bs4 import BeautifulSoup\n",
    "from tqdm import tqdm\n",
    "import re\n",
    "notebook_name = 'scrape_vb_google_scholar'\n",
    "\n",
    "if not hasattr(main, '__file__'):\n",
    "    sp.run(f\"jupyter nbconvert --to script '{notebook_name}.ipynb'; chmod u+x {notebook_name}.py\", shell=True)"
   ]
  },
  {
   "cell_type": "code",
   "execution_count": 2,
   "id": "70ca68c1",
   "metadata": {},
   "outputs": [
    {
     "name": "stderr",
     "output_type": "stream",
     "text": [
      "--2024-10-23 23:36:27--  https://scholar.google.com/citations?hl=en&user=zr2I_WMAAAAJ&view_op=list_works&sortby=pubdate\n",
      "Resolving scholar.google.com (scholar.google.com)... 142.250.217.132\n",
      "Connecting to scholar.google.com (scholar.google.com)|142.250.217.132|:443... connected.\n",
      "HTTP request sent, awaiting response... 302 Found\n",
      "Location: https://www.google.com/sorry/index?continue=https://scholar.google.com/citations%3Fhl%3Den%26user%3Dzr2I_WMAAAAJ%26view_op%3Dlist_works%26sortby%3Dpubdate&hl=en&q=EgRMNdtxGOvV57gGIi6_i8dXhh1--t8kFM9BtEsnpntzItYJ21-WXOlAX34Zt3_3R4yEKaSnPvefOJ1nMgFyWgFD [following]\n",
      "--2024-10-23 23:36:28--  https://www.google.com/sorry/index?continue=https://scholar.google.com/citations%3Fhl%3Den%26user%3Dzr2I_WMAAAAJ%26view_op%3Dlist_works%26sortby%3Dpubdate&hl=en&q=EgRMNdtxGOvV57gGIi6_i8dXhh1--t8kFM9BtEsnpntzItYJ21-WXOlAX34Zt3_3R4yEKaSnPvefOJ1nMgFyWgFD\n",
      "Resolving www.google.com (www.google.com)... 2607:f8b0:4007:80a::2004, 142.250.72.132\n",
      "Connecting to www.google.com (www.google.com)|2607:f8b0:4007:80a::2004|:443... connected.\n",
      "HTTP request sent, awaiting response... 429 Too Many Requests\n",
      "2024-10-23 23:36:28 ERROR 429: Too Many Requests.\n",
      "\n"
     ]
    },
    {
     "data": {
      "text/plain": [
       "CompletedProcess(args=\"cd publications; wget 'https://scholar.google.com/citations?hl=en&user=zr2I_WMAAAAJ&view_op=list_works&sortby=pubdate' -O gscholar_hits.html\", returncode=8)"
      ]
     },
     "execution_count": 2,
     "metadata": {},
     "output_type": "execute_result"
    }
   ],
   "source": [
    "vineet_google_scholar = 'https://scholar.google.com/citations?hl=en&user=zr2I_WMAAAAJ&view_op=list_works&sortby=pubdate'\n",
    "sp.run(f\"cd publications; wget '{vineet_google_scholar}' -O gscholar_hits.html\", shell=True)"
   ]
  },
  {
   "cell_type": "code",
   "execution_count": 3,
   "id": "3d5a5c72",
   "metadata": {},
   "outputs": [],
   "source": [
    "with open(\"publications/gscholar_hits.html\", 'rb') as infile:\n",
    "    hits = infile.read()\n",
    "hits = hits.decode('unicode-escape')"
   ]
  },
  {
   "cell_type": "code",
   "execution_count": 4,
   "id": "f767deb1",
   "metadata": {},
   "outputs": [],
   "source": [
    "publications = re.findall(\"(?=<td class=\\\"gsc_a_t\\\">).*?(?=</span>)\", hits)\n",
    "authors_ = [re.search('(?<=<div class=\\\"gs_gray\\\">).*?(?=</div>)', x).group(0) for x in publications]\n",
    "titles = [re.search('(?<=class=\\\"gsc_a_at\\\">).*?(?=</a>)', x).group(0) for x in publications]\n",
    "years = [re.search('20[0-9][0-9]', x).group(0) for x in publications]\n",
    "citation_links = ['https://scholar.google.com/citations?view_op=view_citation&' + re.search('(?=citation_for_view).*?(?=\" )', x).group(0) for x in publications]"
   ]
  },
  {
   "cell_type": "code",
   "execution_count": 5,
   "id": "01a99772",
   "metadata": {},
   "outputs": [],
   "source": [
    "# authors = []\n",
    "# dates = []\n",
    "# journals = []\n",
    "# links = []\n",
    "# for citation_link in tqdm(citation_links):\n",
    "#     sp.run(f\"wget '{citation_link}' -O tmp.html\", shell=True)\n",
    "#     with open(\"tmp.html\", 'rb') as infile:\n",
    "#         lines = infile.read().decode('unicode-escape')\n",
    "#         author_list, date, journal, *_ = re.findall('(?<=gsc_oci_value\">).*?(?=</div>)', lines)\n",
    "#         if '\"' in journal:\n",
    "#             journal = ''\n",
    "#         link = re.search('(?<=class=\"gsc_oci_title_link\" href=\").*?(?=\")', lines).group(0)\n",
    "#         authors.append(BeautifulSoup(author_list).text)\n",
    "#         dates.append(BeautifulSoup(date).text)\n",
    "#         journals.append(journal)\n",
    "#         links.append(link)\n",
    "        \n",
    "#     time.sleep(5)\n",
    "#     sp.run(\"rm tmp.html\", shell=True)"
   ]
  },
  {
   "cell_type": "code",
   "execution_count": 6,
   "id": "bd9db859",
   "metadata": {},
   "outputs": [],
   "source": [
    "title_length_limit = 75\n",
    "abbreviated_titles = [title if len(title) < title_length_limit else title[:title_length_limit-3]+'...' for title in titles]"
   ]
  },
  {
   "cell_type": "code",
   "execution_count": 44,
   "id": "773791d3",
   "metadata": {},
   "outputs": [],
   "source": [
    "paper_list = []\n",
    "for title, author_list, link, journal, year in zip(abbreviated_titles, authors_, links, journals, years):\n",
    "    paper_list.append('\\t\\t\\t' + f\"\"\"<li><div class=link>\n",
    "\\t\\t\\t\\t<a href=\\\"{link}\\\">{title}</a>\n",
    "\\t\\t\\t\\t<br>\n",
    "\\t\\t\\t\\t<span>{author_list}</span>\n",
    "\\t\\t\\t\\t<br>\n",
    "\\t\\t\\t\\t<span>{journal}, {year}</span>\n",
    "\\t\\t\\t\\t</li>\n",
    "\"\"\".strip())\n",
    "paper_list = '\\n'.join(paper_list)"
   ]
  },
  {
   "cell_type": "code",
   "execution_count": 45,
   "id": "1021ed29",
   "metadata": {},
   "outputs": [],
   "source": [
    "with open('index.html') as infile:\n",
    "    lines = infile.read()\n",
    "    start_papers = lines.index('<ul>') + len('<ul>\\n')\n",
    "    end_papers = lines.index('</ul>') - len('\\n\\t\\t')\n",
    "\n",
    "with open('index.html', 'w') as outfile:\n",
    "    outfile.write(lines[:start_papers] + paper_list + lines[end_papers:])"
   ]
  },
  {
   "cell_type": "code",
   "execution_count": null,
   "id": "7a4de17d",
   "metadata": {},
   "outputs": [],
   "source": []
  }
 ],
 "metadata": {
  "kernelspec": {
   "display_name": "torch-gpu",
   "language": "python",
   "name": "torch-gpu"
  },
  "language_info": {
   "codemirror_mode": {
    "name": "ipython",
    "version": 3
   },
   "file_extension": ".py",
   "mimetype": "text/x-python",
   "name": "python",
   "nbconvert_exporter": "python",
   "pygments_lexer": "ipython3",
   "version": "3.9.18"
  }
 },
 "nbformat": 4,
 "nbformat_minor": 5
}
